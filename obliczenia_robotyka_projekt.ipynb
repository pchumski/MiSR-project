{
 "cells": [
  {
   "cell_type": "code",
   "execution_count": 1,
   "metadata": {},
   "outputs": [],
   "source": [
    "from sympy import *\n",
    "\n",
    "import numpy as np\n",
    "init_printing()\n",
    "\n",
    "l1, l2, t = symbols('l1 l2 t', positive=True, real=True)\n",
    "d3 = Function('d3')(t)\n",
    "t1 = Function('theta_1')(t)\n",
    "t2 = Function('theta_2')(t)"
   ]
  },
  {
   "cell_type": "markdown",
   "metadata": {},
   "source": [
    "# Kinematyka prosta"
   ]
  },
  {
   "cell_type": "code",
   "execution_count": 2,
   "metadata": {},
   "outputs": [
    {
     "data": {
      "text/latex": [
       "$\\displaystyle \\left[\\begin{matrix}- \\sin{\\left(\\theta_{1}{\\left(t \\right)} \\right)} & 0 & \\cos{\\left(\\theta_{1}{\\left(t \\right)} \\right)} & 0\\\\\\cos{\\left(\\theta_{1}{\\left(t \\right)} \\right)} & 0 & \\sin{\\left(\\theta_{1}{\\left(t \\right)} \\right)} & 0\\\\0 & 1 & 0 & l_{1}\\\\0 & 0 & 0 & 1\\end{matrix}\\right]$"
      ],
      "text/plain": [
       "⎡-sin(θ₁(t))  0  cos(θ₁(t))  0 ⎤\n",
       "⎢                              ⎥\n",
       "⎢cos(θ₁(t))   0  sin(θ₁(t))  0 ⎥\n",
       "⎢                              ⎥\n",
       "⎢     0       1      0       l₁⎥\n",
       "⎢                              ⎥\n",
       "⎣     0       0      0       1 ⎦"
      ]
     },
     "execution_count": 2,
     "metadata": {},
     "output_type": "execute_result"
    }
   ],
   "source": [
    "A01 = trigsimp(Matrix([[-sin(t1), -cos(t1), 0, 0], [cos(t1), -sin(t1), 0, 0], [0, 0, 1, l1], [0, 0, 0, 1]]) * Matrix([[1, 0, 0, 0], [0, 0, -1, 0], [0, 1, 0, 0], [0, 0, 0, 1]]))\n",
    "A01"
   ]
  },
  {
   "cell_type": "code",
   "execution_count": 3,
   "metadata": {},
   "outputs": [
    {
     "data": {
      "text/latex": [
       "$\\displaystyle \\left[\\begin{matrix}- \\sin{\\left(\\theta_{1}{\\left(t \\right)} \\right)} \\cos{\\left(\\theta_{2}{\\left(t \\right)} \\right)} & \\cos{\\left(\\theta_{1}{\\left(t \\right)} \\right)} & - \\sin{\\left(\\theta_{1}{\\left(t \\right)} \\right)} \\sin{\\left(\\theta_{2}{\\left(t \\right)} \\right)} & - l_{2} \\sin{\\left(\\theta_{1}{\\left(t \\right)} \\right)} \\cos{\\left(\\theta_{2}{\\left(t \\right)} \\right)}\\\\\\cos{\\left(\\theta_{1}{\\left(t \\right)} \\right)} \\cos{\\left(\\theta_{2}{\\left(t \\right)} \\right)} & \\sin{\\left(\\theta_{1}{\\left(t \\right)} \\right)} & \\sin{\\left(\\theta_{2}{\\left(t \\right)} \\right)} \\cos{\\left(\\theta_{1}{\\left(t \\right)} \\right)} & l_{2} \\cos{\\left(\\theta_{1}{\\left(t \\right)} \\right)} \\cos{\\left(\\theta_{2}{\\left(t \\right)} \\right)}\\\\\\sin{\\left(\\theta_{2}{\\left(t \\right)} \\right)} & 0 & - \\cos{\\left(\\theta_{2}{\\left(t \\right)} \\right)} & l_{1} + l_{2} \\sin{\\left(\\theta_{2}{\\left(t \\right)} \\right)}\\\\0 & 0 & 0 & 1\\end{matrix}\\right]$"
      ],
      "text/plain": [
       "⎡-sin(θ₁(t))⋅cos(θ₂(t))  cos(θ₁(t))  -sin(θ₁(t))⋅sin(θ₂(t))  -l₂⋅sin(θ₁(t))⋅co\n",
       "⎢                                                                             \n",
       "⎢cos(θ₁(t))⋅cos(θ₂(t))   sin(θ₁(t))  sin(θ₂(t))⋅cos(θ₁(t))   l₂⋅cos(θ₁(t))⋅cos\n",
       "⎢                                                                             \n",
       "⎢      sin(θ₂(t))            0            -cos(θ₂(t))           l₁ + l₂⋅sin(θ₂\n",
       "⎢                                                                             \n",
       "⎣          0                 0                 0                         1    \n",
       "\n",
       "s(θ₂(t))⎤\n",
       "        ⎥\n",
       "(θ₂(t)) ⎥\n",
       "        ⎥\n",
       "(t))    ⎥\n",
       "        ⎥\n",
       "        ⎦"
      ]
     },
     "execution_count": 3,
     "metadata": {},
     "output_type": "execute_result"
    }
   ],
   "source": [
    "A02 = trigsimp(A01 * Matrix([[cos(t2), -sin(t2), 0, 0], [sin(t2), cos(t2), 0, 0], [0, 0, 1, 0], [0, 0, 0, 1]]) * Matrix([[1, 0, 0, l2], [0, 0, -1, 0], [0, 1, 0, 0], [0, 0, 0, 1]]))\n",
    "A02"
   ]
  },
  {
   "cell_type": "code",
   "execution_count": 4,
   "metadata": {},
   "outputs": [
    {
     "data": {
      "text/latex": [
       "$\\displaystyle \\left[\\begin{matrix}- \\sin{\\left(\\theta_{1}{\\left(t \\right)} \\right)} \\cos{\\left(\\theta_{2}{\\left(t \\right)} \\right)} & \\cos{\\left(\\theta_{1}{\\left(t \\right)} \\right)} & - \\sin{\\left(\\theta_{1}{\\left(t \\right)} \\right)} \\sin{\\left(\\theta_{2}{\\left(t \\right)} \\right)} & - \\left(l_{2} \\cos{\\left(\\theta_{2}{\\left(t \\right)} \\right)} + \\operatorname{d_{3}}{\\left(t \\right)} \\sin{\\left(\\theta_{2}{\\left(t \\right)} \\right)}\\right) \\sin{\\left(\\theta_{1}{\\left(t \\right)} \\right)}\\\\\\cos{\\left(\\theta_{1}{\\left(t \\right)} \\right)} \\cos{\\left(\\theta_{2}{\\left(t \\right)} \\right)} & \\sin{\\left(\\theta_{1}{\\left(t \\right)} \\right)} & \\sin{\\left(\\theta_{2}{\\left(t \\right)} \\right)} \\cos{\\left(\\theta_{1}{\\left(t \\right)} \\right)} & \\left(l_{2} \\cos{\\left(\\theta_{2}{\\left(t \\right)} \\right)} + \\operatorname{d_{3}}{\\left(t \\right)} \\sin{\\left(\\theta_{2}{\\left(t \\right)} \\right)}\\right) \\cos{\\left(\\theta_{1}{\\left(t \\right)} \\right)}\\\\\\sin{\\left(\\theta_{2}{\\left(t \\right)} \\right)} & 0 & - \\cos{\\left(\\theta_{2}{\\left(t \\right)} \\right)} & l_{1} + l_{2} \\sin{\\left(\\theta_{2}{\\left(t \\right)} \\right)} - \\operatorname{d_{3}}{\\left(t \\right)} \\cos{\\left(\\theta_{2}{\\left(t \\right)} \\right)}\\\\0 & 0 & 0 & 1\\end{matrix}\\right]$"
      ],
      "text/plain": [
       "⎡-sin(θ₁(t))⋅cos(θ₂(t))  cos(θ₁(t))  -sin(θ₁(t))⋅sin(θ₂(t))  -(l₂⋅cos(θ₂(t)) +\n",
       "⎢                                                                             \n",
       "⎢cos(θ₁(t))⋅cos(θ₂(t))   sin(θ₁(t))  sin(θ₂(t))⋅cos(θ₁(t))   (l₂⋅cos(θ₂(t)) + \n",
       "⎢                                                                             \n",
       "⎢      sin(θ₂(t))            0            -cos(θ₂(t))            l₁ + l₂⋅sin(θ\n",
       "⎢                                                                             \n",
       "⎣          0                 0                 0                              \n",
       "\n",
       " d₃(t)⋅sin(θ₂(t)))⋅sin(θ₁(t))⎤\n",
       "                             ⎥\n",
       "d₃(t)⋅sin(θ₂(t)))⋅cos(θ₁(t)) ⎥\n",
       "                             ⎥\n",
       "₂(t)) - d₃(t)⋅cos(θ₂(t))     ⎥\n",
       "                             ⎥\n",
       "     1                       ⎦"
      ]
     },
     "execution_count": 4,
     "metadata": {},
     "output_type": "execute_result"
    }
   ],
   "source": [
    "A03 = trigsimp(A02 * Matrix([[1, 0, 0, 0], [0, 1, 0, 0], [0, 0, 1, d3], [0, 0, 0, 1]]))\n",
    "A03"
   ]
  },
  {
   "cell_type": "code",
   "execution_count": null,
   "metadata": {},
   "outputs": [],
   "source": []
  },
  {
   "cell_type": "markdown",
   "metadata": {},
   "source": [
    "# Kinematyka prędkości"
   ]
  },
  {
   "cell_type": "code",
   "execution_count": 5,
   "metadata": {},
   "outputs": [
    {
     "data": {
      "text/latex": [
       "$\\displaystyle \\left[\\begin{matrix}- \\left(l_{2} \\cos{\\left(\\theta_{2}{\\left(t \\right)} \\right)} + \\operatorname{d_{3}}{\\left(t \\right)} \\sin{\\left(\\theta_{2}{\\left(t \\right)} \\right)}\\right) \\cos{\\left(\\theta_{1}{\\left(t \\right)} \\right)} & \\left(l_{2} \\sin{\\left(\\theta_{2}{\\left(t \\right)} \\right)} - \\operatorname{d_{3}}{\\left(t \\right)} \\cos{\\left(\\theta_{2}{\\left(t \\right)} \\right)}\\right) \\sin{\\left(\\theta_{1}{\\left(t \\right)} \\right)} & - \\sin{\\left(\\theta_{1}{\\left(t \\right)} \\right)} \\sin{\\left(\\theta_{2}{\\left(t \\right)} \\right)}\\\\- \\left(l_{2} \\cos{\\left(\\theta_{2}{\\left(t \\right)} \\right)} + \\operatorname{d_{3}}{\\left(t \\right)} \\sin{\\left(\\theta_{2}{\\left(t \\right)} \\right)}\\right) \\sin{\\left(\\theta_{1}{\\left(t \\right)} \\right)} & \\left(- l_{2} \\sin{\\left(\\theta_{2}{\\left(t \\right)} \\right)} + \\operatorname{d_{3}}{\\left(t \\right)} \\cos{\\left(\\theta_{2}{\\left(t \\right)} \\right)}\\right) \\cos{\\left(\\theta_{1}{\\left(t \\right)} \\right)} & \\sin{\\left(\\theta_{2}{\\left(t \\right)} \\right)} \\cos{\\left(\\theta_{1}{\\left(t \\right)} \\right)}\\\\0 & l_{2} \\cos{\\left(\\theta_{2}{\\left(t \\right)} \\right)} + \\operatorname{d_{3}}{\\left(t \\right)} \\sin{\\left(\\theta_{2}{\\left(t \\right)} \\right)} & - \\cos{\\left(\\theta_{2}{\\left(t \\right)} \\right)}\\end{matrix}\\right]$"
      ],
      "text/plain": [
       "⎡-(l₂⋅cos(θ₂(t)) + d₃(t)⋅sin(θ₂(t)))⋅cos(θ₁(t))  (l₂⋅sin(θ₂(t)) - d₃(t)⋅cos(θ₂\n",
       "⎢                                                                             \n",
       "⎢-(l₂⋅cos(θ₂(t)) + d₃(t)⋅sin(θ₂(t)))⋅sin(θ₁(t))  (-l₂⋅sin(θ₂(t)) + d₃(t)⋅cos(θ\n",
       "⎢                                                                             \n",
       "⎣                      0                                l₂⋅cos(θ₂(t)) + d₃(t)⋅\n",
       "\n",
       "(t)))⋅sin(θ₁(t))   -sin(θ₁(t))⋅sin(θ₂(t))⎤\n",
       "                                         ⎥\n",
       "₂(t)))⋅cos(θ₁(t))  sin(θ₂(t))⋅cos(θ₁(t)) ⎥\n",
       "                                         ⎥\n",
       "sin(θ₂(t))              -cos(θ₂(t))      ⎦"
      ]
     },
     "execution_count": 5,
     "metadata": {},
     "output_type": "execute_result"
    }
   ],
   "source": [
    "T = A03[0:3, 3]\n",
    "Jv = trigsimp(Matrix([[diff(T[0], t1), diff(T[0], t2), diff(T[0], d3)],\n",
    "                        [diff(T[1], t1), diff(T[1], t2), diff(T[1], d3)],\n",
    "                        [diff(T[2], t1), diff(T[2], t2), diff(T[2], d3)]]))\n",
    "Jv"
   ]
  },
  {
   "cell_type": "code",
   "execution_count": 6,
   "metadata": {},
   "outputs": [
    {
     "data": {
      "text/latex": [
       "$\\displaystyle \\left[\\begin{matrix}0 & - \\frac{d}{d t} \\theta_{1}{\\left(t \\right)} & \\sin{\\left(\\theta_{1}{\\left(t \\right)} \\right)} \\frac{d}{d t} \\theta_{2}{\\left(t \\right)}\\\\\\frac{d}{d t} \\theta_{1}{\\left(t \\right)} & 0 & - \\cos{\\left(\\theta_{1}{\\left(t \\right)} \\right)} \\frac{d}{d t} \\theta_{2}{\\left(t \\right)}\\\\- \\sin{\\left(\\theta_{1}{\\left(t \\right)} \\right)} \\frac{d}{d t} \\theta_{2}{\\left(t \\right)} & \\cos{\\left(\\theta_{1}{\\left(t \\right)} \\right)} \\frac{d}{d t} \\theta_{2}{\\left(t \\right)} & 0\\end{matrix}\\right]$"
      ],
      "text/plain": [
       "⎡                             d                          d         ⎤\n",
       "⎢          0                 -──(θ₁(t))       sin(θ₁(t))⋅──(θ₂(t)) ⎥\n",
       "⎢                             dt                         dt        ⎥\n",
       "⎢                                                                  ⎥\n",
       "⎢      d                                                  d        ⎥\n",
       "⎢      ──(θ₁(t))                 0            -cos(θ₁(t))⋅──(θ₂(t))⎥\n",
       "⎢      dt                                                 dt       ⎥\n",
       "⎢                                                                  ⎥\n",
       "⎢            d                     d                               ⎥\n",
       "⎢-sin(θ₁(t))⋅──(θ₂(t))  cos(θ₁(t))⋅──(θ₂(t))            0          ⎥\n",
       "⎣            dt                    dt                              ⎦"
      ]
     },
     "execution_count": 6,
     "metadata": {},
     "output_type": "execute_result"
    }
   ],
   "source": [
    "R = A03[0:3, 0:3]\n",
    "Rp = trigsimp(diff(R,t))\n",
    "tensor = trigsimp(Rp * R.T)\n",
    "tensor"
   ]
  },
  {
   "cell_type": "code",
   "execution_count": 7,
   "metadata": {},
   "outputs": [],
   "source": [
    "omegax = tensor[2, 1]\n",
    "omegay = tensor[0, 2]\n",
    "omegaz = tensor[1, 0]"
   ]
  },
  {
   "cell_type": "code",
   "execution_count": 8,
   "metadata": {},
   "outputs": [
    {
     "data": {
      "image/png": "[encoded data removed]",
      "text/latex": [
       "$\\displaystyle \\cos{\\left(\\theta_{1}{\\left(t \\right)} \\right)} \\frac{d}{d t} \\theta_{2}{\\left(t \\right)}$"
      ],
      "text/plain": [
       "           d        \n",
       "cos(θ₁(t))⋅──(θ₂(t))\n",
       "           dt       "
      ]
     },
     "execution_count": 8,
     "metadata": {},
     "output_type": "execute_result"
    }
   ],
   "source": [
    "omegax"
   ]
  },
  {
   "cell_type": "code",
   "execution_count": 9,
   "metadata": {},
   "outputs": [
    {
     "data": {
      "image/png": "[encoded data removed]",
      "text/latex": [
       "$\\displaystyle \\sin{\\left(\\theta_{1}{\\left(t \\right)} \\right)} \\frac{d}{d t} \\theta_{2}{\\left(t \\right)}$"
      ],
      "text/plain": [
       "           d        \n",
       "sin(θ₁(t))⋅──(θ₂(t))\n",
       "           dt       "
      ]
     },
     "execution_count": 9,
     "metadata": {},
     "output_type": "execute_result"
    }
   ],
   "source": [
    "omegay"
   ]
  },
  {
   "cell_type": "code",
   "execution_count": 10,
   "metadata": {},
   "outputs": [
    {
     "data": {
      "image/png": "[encoded data removed]",
      "text/latex": [
       "$\\displaystyle \\frac{d}{d t} \\theta_{1}{\\left(t \\right)}$"
      ],
      "text/plain": [
       "d        \n",
       "──(θ₁(t))\n",
       "dt       "
      ]
     },
     "execution_count": 10,
     "metadata": {},
     "output_type": "execute_result"
    }
   ],
   "source": [
    "omegaz"
   ]
  },
  {
   "cell_type": "markdown",
   "metadata": {},
   "source": [
    "# Dynamika"
   ]
  },
  {
   "cell_type": "code",
   "execution_count": 11,
   "metadata": {},
   "outputs": [
    {
     "data": {
      "text/latex": [
       "$\\displaystyle \\left[\\begin{matrix}0\\\\0\\\\\\frac{l_{1}}{2}\\end{matrix}\\right]$"
      ],
      "text/plain": [
       "⎡0 ⎤\n",
       "⎢  ⎥\n",
       "⎢0 ⎥\n",
       "⎢  ⎥\n",
       "⎢l₁⎥\n",
       "⎢──⎥\n",
       "⎣2 ⎦"
      ]
     },
     "execution_count": 11,
     "metadata": {},
     "output_type": "execute_result"
    }
   ],
   "source": [
    "oc1 = Matrix([[0], [0], [l1/2]])\n",
    "oc1"
   ]
  },
  {
   "cell_type": "code",
   "execution_count": 12,
   "metadata": {},
   "outputs": [
    {
     "data": {
      "text/latex": [
       "$\\displaystyle \\left[\\begin{matrix}- \\frac{l_{2} \\sin{\\left(\\theta_{1}{\\left(t \\right)} \\right)} \\cos{\\left(\\theta_{2}{\\left(t \\right)} \\right)}}{2}\\\\\\frac{l_{2} \\cos{\\left(\\theta_{1}{\\left(t \\right)} \\right)} \\cos{\\left(\\theta_{2}{\\left(t \\right)} \\right)}}{2}\\\\l_{1} + \\frac{l_{2} \\sin{\\left(\\theta_{2}{\\left(t \\right)} \\right)}}{2}\\end{matrix}\\right]$"
      ],
      "text/plain": [
       "⎡-l₂⋅sin(θ₁(t))⋅cos(θ₂(t)) ⎤\n",
       "⎢──────────────────────────⎥\n",
       "⎢            2             ⎥\n",
       "⎢                          ⎥\n",
       "⎢ l₂⋅cos(θ₁(t))⋅cos(θ₂(t)) ⎥\n",
       "⎢ ──────────────────────── ⎥\n",
       "⎢            2             ⎥\n",
       "⎢                          ⎥\n",
       "⎢         l₂⋅sin(θ₂(t))    ⎥\n",
       "⎢    l₁ + ─────────────    ⎥\n",
       "⎣               2          ⎦"
      ]
     },
     "execution_count": 12,
     "metadata": {},
     "output_type": "execute_result"
    }
   ],
   "source": [
    "oc2 = Matrix(A02[0:3,3].subs(l2,l2/2))\n",
    "oc2"
   ]
  },
  {
   "cell_type": "code",
   "execution_count": 13,
   "metadata": {},
   "outputs": [
    {
     "data": {
      "text/latex": [
       "$\\displaystyle \\left[\\begin{matrix}- \\left(l_{2} \\cos{\\left(\\theta_{2}{\\left(t \\right)} \\right)} + \\frac{\\operatorname{d_{3}}{\\left(t \\right)} \\sin{\\left(\\theta_{2}{\\left(t \\right)} \\right)}}{2}\\right) \\sin{\\left(\\theta_{1}{\\left(t \\right)} \\right)}\\\\\\left(l_{2} \\cos{\\left(\\theta_{2}{\\left(t \\right)} \\right)} + \\frac{\\operatorname{d_{3}}{\\left(t \\right)} \\sin{\\left(\\theta_{2}{\\left(t \\right)} \\right)}}{2}\\right) \\cos{\\left(\\theta_{1}{\\left(t \\right)} \\right)}\\\\l_{1} + l_{2} \\sin{\\left(\\theta_{2}{\\left(t \\right)} \\right)} - \\frac{\\operatorname{d_{3}}{\\left(t \\right)} \\cos{\\left(\\theta_{2}{\\left(t \\right)} \\right)}}{2}\\end{matrix}\\right]$"
      ],
      "text/plain": [
       "⎡ ⎛                d₃(t)⋅sin(θ₂(t))⎞           ⎤\n",
       "⎢-⎜l₂⋅cos(θ₂(t)) + ────────────────⎟⋅sin(θ₁(t))⎥\n",
       "⎢ ⎝                       2        ⎠           ⎥\n",
       "⎢                                              ⎥\n",
       "⎢⎛                d₃(t)⋅sin(θ₂(t))⎞            ⎥\n",
       "⎢⎜l₂⋅cos(θ₂(t)) + ────────────────⎟⋅cos(θ₁(t)) ⎥\n",
       "⎢⎝                       2        ⎠            ⎥\n",
       "⎢                                              ⎥\n",
       "⎢                         d₃(t)⋅cos(θ₂(t))     ⎥\n",
       "⎢    l₁ + l₂⋅sin(θ₂(t)) - ────────────────     ⎥\n",
       "⎣                                2             ⎦"
      ]
     },
     "execution_count": 13,
     "metadata": {},
     "output_type": "execute_result"
    }
   ],
   "source": [
    "oc3 = Matrix(A03[0:3,3].subs(d3,d3/2))\n",
    "oc3"
   ]
  },
  {
   "cell_type": "code",
   "execution_count": 14,
   "metadata": {},
   "outputs": [
    {
     "data": {
      "text/latex": [
       "$\\displaystyle \\left[\\begin{matrix}0 & 0 & 0\\\\0 & 0 & 0\\\\0 & 0 & 0\\\\0 & 0 & 0\\\\0 & 0 & 0\\\\1 & 0 & 0\\end{matrix}\\right]$"
      ],
      "text/plain": [
       "⎡0  0  0⎤\n",
       "⎢       ⎥\n",
       "⎢0  0  0⎥\n",
       "⎢       ⎥\n",
       "⎢0  0  0⎥\n",
       "⎢       ⎥\n",
       "⎢0  0  0⎥\n",
       "⎢       ⎥\n",
       "⎢0  0  0⎥\n",
       "⎢       ⎥\n",
       "⎣1  0  0⎦"
      ]
     },
     "execution_count": 14,
     "metadata": {},
     "output_type": "execute_result"
    }
   ],
   "source": [
    "cross = Matrix([[0], [0], [1]]).cross(oc1)\n",
    "Joc1 = Matrix([[cross[0], 0, 0], [cross[1], 0, 0], [cross[2], 0, 0], [0,0,0], [0,0,0], [1,0,0]])\n",
    "Joc1"
   ]
  },
  {
   "cell_type": "code",
   "execution_count": 15,
   "metadata": {},
   "outputs": [
    {
     "data": {
      "text/latex": [
       "$\\displaystyle \\left[\\begin{matrix}- \\frac{l_{2} \\cos{\\left(\\theta_{1}{\\left(t \\right)} \\right)} \\cos{\\left(\\theta_{2}{\\left(t \\right)} \\right)}}{2} & \\frac{l_{2} \\sin{\\left(\\theta_{1}{\\left(t \\right)} \\right)} \\sin{\\left(\\theta_{2}{\\left(t \\right)} \\right)}}{2} & 0\\\\- \\frac{l_{2} \\sin{\\left(\\theta_{1}{\\left(t \\right)} \\right)} \\cos{\\left(\\theta_{2}{\\left(t \\right)} \\right)}}{2} & - \\frac{l_{2} \\sin{\\left(\\theta_{2}{\\left(t \\right)} \\right)} \\cos{\\left(\\theta_{1}{\\left(t \\right)} \\right)}}{2} & 0\\\\0 & \\frac{l_{2} \\cos{\\left(\\theta_{2}{\\left(t \\right)} \\right)}}{2} & 0\\\\0 & \\cos{\\left(\\theta_{1}{\\left(t \\right)} \\right)} & 0\\\\0 & \\sin{\\left(\\theta_{1}{\\left(t \\right)} \\right)} & 0\\\\1 & 0 & 0\\end{matrix}\\right]$"
      ],
      "text/plain": [
       "⎡-l₂⋅cos(θ₁(t))⋅cos(θ₂(t))    l₂⋅sin(θ₁(t))⋅sin(θ₂(t))    ⎤\n",
       "⎢──────────────────────────   ────────────────────────   0⎥\n",
       "⎢            2                           2                ⎥\n",
       "⎢                                                         ⎥\n",
       "⎢-l₂⋅sin(θ₁(t))⋅cos(θ₂(t))   -l₂⋅sin(θ₂(t))⋅cos(θ₁(t))    ⎥\n",
       "⎢──────────────────────────  ──────────────────────────  0⎥\n",
       "⎢            2                           2                ⎥\n",
       "⎢                                                         ⎥\n",
       "⎢                                  l₂⋅cos(θ₂(t))          ⎥\n",
       "⎢            0                     ─────────────         0⎥\n",
       "⎢                                        2                ⎥\n",
       "⎢                                                         ⎥\n",
       "⎢            0                       cos(θ₁(t))          0⎥\n",
       "⎢                                                         ⎥\n",
       "⎢            0                       sin(θ₁(t))          0⎥\n",
       "⎢                                                         ⎥\n",
       "⎣            1                           0               0⎦"
      ]
     },
     "execution_count": 15,
     "metadata": {},
     "output_type": "execute_result"
    }
   ],
   "source": [
    "z1 = A01[0:3,2]\n",
    "cross0 = Matrix([[0], [0], [1]]).cross(oc2)\n",
    "cross1 = trigsimp(z1.cross(oc2-A01[0:3, 3]))\n",
    "Joc2 = Matrix([[cross0[0], cross1[0], 0],\n",
    "               [cross0[1], cross1[1], 0], \n",
    "               [cross0[2], cross1[2], 0], \n",
    "               [0, z1[0], 0], \n",
    "               [0, z1[1], 0], \n",
    "               [1, z1[2], 0]])\n",
    "Joc2"
   ]
  },
  {
   "cell_type": "code",
   "execution_count": 16,
   "metadata": {},
   "outputs": [
    {
     "data": {
      "text/latex": [
       "$\\displaystyle \\left[\\begin{matrix}- \\left(l_{2} \\cos{\\left(\\theta_{2}{\\left(t \\right)} \\right)} + \\frac{\\operatorname{d_{3}}{\\left(t \\right)} \\sin{\\left(\\theta_{2}{\\left(t \\right)} \\right)}}{2}\\right) \\cos{\\left(\\theta_{1}{\\left(t \\right)} \\right)} & l_{2} \\cos{\\left(\\theta_{1}{\\left(t \\right)} \\right)} & - \\frac{\\sin{\\left(\\theta_{1}{\\left(t \\right)} \\right)} \\sin{\\left(\\theta_{2}{\\left(t \\right)} \\right)}}{2}\\\\- \\left(l_{2} \\cos{\\left(\\theta_{2}{\\left(t \\right)} \\right)} + \\frac{\\operatorname{d_{3}}{\\left(t \\right)} \\sin{\\left(\\theta_{2}{\\left(t \\right)} \\right)}}{2}\\right) \\sin{\\left(\\theta_{1}{\\left(t \\right)} \\right)} & l_{2} \\sin{\\left(\\theta_{1}{\\left(t \\right)} \\right)} & \\frac{\\sin{\\left(\\theta_{2}{\\left(t \\right)} \\right)} \\cos{\\left(\\theta_{1}{\\left(t \\right)} \\right)}}{2}\\\\0 & 0 & - \\frac{\\cos{\\left(\\theta_{2}{\\left(t \\right)} \\right)}}{2}\\\\0 & \\cos{\\left(\\theta_{1}{\\left(t \\right)} \\right)} & 0\\\\0 & \\sin{\\left(\\theta_{1}{\\left(t \\right)} \\right)} & 0\\\\1 & 0 & 0\\end{matrix}\\right]$"
      ],
      "text/plain": [
       "⎡ ⎛                d₃(t)⋅sin(θ₂(t))⎞                            -sin(θ₁(t))⋅si\n",
       "⎢-⎜l₂⋅cos(θ₂(t)) + ────────────────⎟⋅cos(θ₁(t))  l₂⋅cos(θ₁(t))  ──────────────\n",
       "⎢ ⎝                       2        ⎠                                       2  \n",
       "⎢                                                                             \n",
       "⎢ ⎛                d₃(t)⋅sin(θ₂(t))⎞                             sin(θ₂(t))⋅co\n",
       "⎢-⎜l₂⋅cos(θ₂(t)) + ────────────────⎟⋅sin(θ₁(t))  l₂⋅sin(θ₁(t))   ─────────────\n",
       "⎢ ⎝                       2        ⎠                                       2  \n",
       "⎢                                                                             \n",
       "⎢                                                                    -cos(θ₂(t\n",
       "⎢                      0                               0             ─────────\n",
       "⎢                                                                         2   \n",
       "⎢                                                                             \n",
       "⎢                      0                          cos(θ₁(t))               0  \n",
       "⎢                                                                             \n",
       "⎢                      0                          sin(θ₁(t))               0  \n",
       "⎢                                                                             \n",
       "⎣                      1                               0                   0  \n",
       "\n",
       "n(θ₂(t)) ⎤\n",
       "─────────⎥\n",
       "         ⎥\n",
       "         ⎥\n",
       "s(θ₁(t)) ⎥\n",
       "──────── ⎥\n",
       "         ⎥\n",
       "         ⎥\n",
       "))       ⎥\n",
       "───      ⎥\n",
       "         ⎥\n",
       "         ⎥\n",
       "         ⎥\n",
       "         ⎥\n",
       "         ⎥\n",
       "         ⎥\n",
       "         ⎦"
      ]
     },
     "execution_count": 16,
     "metadata": {},
     "output_type": "execute_result"
    }
   ],
   "source": [
    "z2 = A02[0:3,2]\n",
    "cross0 = Matrix([[0], [0], [1]]).cross(oc3)\n",
    "cross1 = trigsimp(z2.cross(oc3-A01[0:3, 3]))\n",
    "Joc3 = Matrix([[cross0[0], cross1[0], z2[0]/2],\n",
    "               [cross0[1], cross1[1], z2[1]/2], \n",
    "               [cross0[2], cross1[2], z2[2]/2], \n",
    "               [0, z1[0], 0], \n",
    "               [0, z1[1], 0], \n",
    "               [1, z1[2], 0]])\n",
    "Joc3"
   ]
  },
  {
   "cell_type": "markdown",
   "metadata": {},
   "source": [
    "# Macierz bezwładności"
   ]
  },
  {
   "cell_type": "code",
   "execution_count": 17,
   "metadata": {},
   "outputs": [],
   "source": [
    "m1, m2, m3, Ixx1, Iyy1, Izz1, Ixx2, Iyy2, Izz2, Ixx3, Iyy3, Izz3 = symbols('m1 m2 m3 Ixx1 Iyy1 Izz1 Ixx2 Iyy2 Izz2 Ixx3 Iyy3 Izz3')"
   ]
  },
  {
   "cell_type": "code",
   "execution_count": 18,
   "metadata": {},
   "outputs": [
    {
     "data": {
      "text/latex": [
       "$\\displaystyle \\left[\\begin{matrix}Iyy_{1} & 0 & 0\\\\0 & 0 & 0\\\\0 & 0 & 0\\end{matrix}\\right]$"
      ],
      "text/plain": [
       "⎡Iyy₁  0  0⎤\n",
       "⎢          ⎥\n",
       "⎢ 0    0  0⎥\n",
       "⎢          ⎥\n",
       "⎣ 0    0  0⎦"
      ]
     },
     "execution_count": 18,
     "metadata": {},
     "output_type": "execute_result"
    }
   ],
   "source": [
    "D1 = trigsimp(Joc1[0:3, :].T * Joc1[0:3, :] * m1 + Joc1[3:6, :].T * A01[0:3, 0:3] * Matrix([[Ixx1, 0, 0], [0, Iyy1, 0], [0, 0, Izz1]]) * A01[0:3, 0:3].T * Joc1[3:6, :])\n",
    "D1"
   ]
  },
  {
   "cell_type": "code",
   "execution_count": 19,
   "metadata": {},
   "outputs": [
    {
     "data": {
      "text/latex": [
       "$\\displaystyle \\left[\\begin{matrix}Ixx_{2} \\sin^{2}{\\left(\\theta_{2}{\\left(t \\right)} \\right)} + Izz_{2} \\cos^{2}{\\left(\\theta_{2}{\\left(t \\right)} \\right)} + \\frac{l_{2}^{2} m_{2} \\cos^{2}{\\left(\\theta_{2}{\\left(t \\right)} \\right)}}{4} & 0 & 0\\\\0 & Iyy_{2} + \\frac{l_{2}^{2} m_{2}}{4} & 0\\\\0 & 0 & 0\\end{matrix}\\right]$"
      ],
      "text/plain": [
       "⎡                                        2       2                         ⎤\n",
       "⎢        2                  2          l₂ ⋅m₂⋅cos (θ₂(t))                  ⎥\n",
       "⎢Ixx₂⋅sin (θ₂(t)) + Izz₂⋅cos (θ₂(t)) + ──────────────────        0        0⎥\n",
       "⎢                                              4                           ⎥\n",
       "⎢                                                                          ⎥\n",
       "⎢                                                                   2      ⎥\n",
       "⎢                                                                 l₂ ⋅m₂   ⎥\n",
       "⎢                           0                              Iyy₂ + ──────  0⎥\n",
       "⎢                                                                   4      ⎥\n",
       "⎢                                                                          ⎥\n",
       "⎣                           0                                    0        0⎦"
      ]
     },
     "execution_count": 19,
     "metadata": {},
     "output_type": "execute_result"
    }
   ],
   "source": [
    "D2 = trigsimp(Joc2[0:3, :].T * Joc2[0:3, :] * m2 + Joc2[3:6, :].T * A02[0:3, 0:3] * Matrix([[Ixx2, 0, 0], [0, Iyy2, 0], [0, 0, Izz2]]) * A02[0:3, 0:3].T * Joc2[3:6, :])\n",
    "D2"
   ]
  },
  {
   "cell_type": "code",
   "execution_count": 20,
   "metadata": {},
   "outputs": [
    {
     "data": {
      "text/latex": [
       "$\\displaystyle \\left[\\begin{matrix}Ixx_{3} \\sin^{2}{\\left(\\theta_{2}{\\left(t \\right)} \\right)} + Izz_{3} \\cos^{2}{\\left(\\theta_{2}{\\left(t \\right)} \\right)} + \\frac{m_{3} \\left(2 l_{2} \\cos{\\left(\\theta_{2}{\\left(t \\right)} \\right)} + \\operatorname{d_{3}}{\\left(t \\right)} \\sin{\\left(\\theta_{2}{\\left(t \\right)} \\right)}\\right)^{2}}{4} & - l_{2} m_{3} \\left(l_{2} \\cos{\\left(\\theta_{2}{\\left(t \\right)} \\right)} + \\frac{\\operatorname{d_{3}}{\\left(t \\right)} \\sin{\\left(\\theta_{2}{\\left(t \\right)} \\right)}}{2}\\right) & 0\\\\- l_{2} m_{3} \\left(l_{2} \\cos{\\left(\\theta_{2}{\\left(t \\right)} \\right)} + \\frac{\\operatorname{d_{3}}{\\left(t \\right)} \\sin{\\left(\\theta_{2}{\\left(t \\right)} \\right)}}{2}\\right) & Iyy_{3} + l_{2}^{2} m_{3} & 0\\\\0 & 0 & \\frac{m_{3}}{4}\\end{matrix}\\right]$"
      ],
      "text/plain": [
       "⎡                                                                             \n",
       "⎢        2                  2          m₃⋅(2⋅l₂⋅cos(θ₂(t)) + d₃(t)⋅sin(θ₂(t)))\n",
       "⎢Ixx₃⋅sin (θ₂(t)) + Izz₃⋅cos (θ₂(t)) + ───────────────────────────────────────\n",
       "⎢                                                         4                   \n",
       "⎢                                                                             \n",
       "⎢                         ⎛                d₃(t)⋅sin(θ₂(t))⎞                  \n",
       "⎢                  -l₂⋅m₃⋅⎜l₂⋅cos(θ₂(t)) + ────────────────⎟                  \n",
       "⎢                         ⎝                       2        ⎠                  \n",
       "⎢                                                                             \n",
       "⎢                                                                             \n",
       "⎢                                      0                                      \n",
       "⎣                                                                             \n",
       "\n",
       "2                                               ⎤\n",
       "          ⎛                d₃(t)⋅sin(θ₂(t))⎞    ⎥\n",
       "─  -l₂⋅m₃⋅⎜l₂⋅cos(θ₂(t)) + ────────────────⎟  0 ⎥\n",
       "          ⎝                       2        ⎠    ⎥\n",
       "                                                ⎥\n",
       "                          2                     ⎥\n",
       "                 Iyy₃ + l₂ ⋅m₃                0 ⎥\n",
       "                                                ⎥\n",
       "                                                ⎥\n",
       "                                              m₃⎥\n",
       "                       0                      ──⎥\n",
       "                                              4 ⎦"
      ]
     },
     "execution_count": 20,
     "metadata": {},
     "output_type": "execute_result"
    }
   ],
   "source": [
    "D3 = trigsimp(Joc3[0:3, :].T * Joc3[0:3, :] * m3 + Joc3[3:6, :].T * A03[0:3, 0:3] * Matrix([[Ixx3, 0, 0], [0, Iyy3, 0], [0, 0, Izz3]]) * A03[0:3, 0:3].T * Joc3[3:6, :])\n",
    "D3"
   ]
  },
  {
   "cell_type": "code",
   "execution_count": 21,
   "metadata": {
    "scrolled": true
   },
   "outputs": [
    {
     "data": {
      "text/latex": [
       "$\\displaystyle \\left[\\begin{matrix}Ixx_{2} \\sin^{2}{\\left(\\theta_{2}{\\left(t \\right)} \\right)} + Ixx_{3} \\sin^{2}{\\left(\\theta_{2}{\\left(t \\right)} \\right)} + Iyy_{1} + Izz_{2} \\cos^{2}{\\left(\\theta_{2}{\\left(t \\right)} \\right)} + Izz_{3} \\cos^{2}{\\left(\\theta_{2}{\\left(t \\right)} \\right)} + \\frac{l_{2}^{2} m_{2} \\cos^{2}{\\left(\\theta_{2}{\\left(t \\right)} \\right)}}{4} + \\frac{m_{3} \\left(2 l_{2} \\cos{\\left(\\theta_{2}{\\left(t \\right)} \\right)} + \\operatorname{d_{3}}{\\left(t \\right)} \\sin{\\left(\\theta_{2}{\\left(t \\right)} \\right)}\\right)^{2}}{4} & - \\frac{l_{2} m_{3} \\left(2 l_{2} \\cos{\\left(\\theta_{2}{\\left(t \\right)} \\right)} + \\operatorname{d_{3}}{\\left(t \\right)} \\sin{\\left(\\theta_{2}{\\left(t \\right)} \\right)}\\right)}{2} & 0\\\\- \\frac{l_{2} m_{3} \\left(2 l_{2} \\cos{\\left(\\theta_{2}{\\left(t \\right)} \\right)} + \\operatorname{d_{3}}{\\left(t \\right)} \\sin{\\left(\\theta_{2}{\\left(t \\right)} \\right)}\\right)}{2} & Iyy_{2} + Iyy_{3} + \\frac{l_{2}^{2} m_{2}}{4} + l_{2}^{2} m_{3} & 0\\\\0 & 0 & \\frac{m_{3}}{4}\\end{matrix}\\right]$"
      ],
      "text/plain": [
       "⎡                                                                             \n",
       "⎢        2                  2                         2                  2    \n",
       "⎢Ixx₂⋅sin (θ₂(t)) + Ixx₃⋅sin (θ₂(t)) + Iyy₁ + Izz₂⋅cos (θ₂(t)) + Izz₃⋅cos (θ₂(\n",
       "⎢                                                                             \n",
       "⎢                                                                             \n",
       "⎢                                                                             \n",
       "⎢                                                  -l₂⋅m₃⋅(2⋅l₂⋅cos(θ₂(t)) + d\n",
       "⎢                                                  ───────────────────────────\n",
       "⎢                                                                       2     \n",
       "⎢                                                                             \n",
       "⎢                                                                             \n",
       "⎢                                                                       0     \n",
       "⎣                                                                             \n",
       "\n",
       "        2       2                                                 2           \n",
       "      l₂ ⋅m₂⋅cos (θ₂(t))   m₃⋅(2⋅l₂⋅cos(θ₂(t)) + d₃(t)⋅sin(θ₂(t)))   -l₂⋅m₃⋅(2\n",
       "t)) + ────────────────── + ────────────────────────────────────────  ─────────\n",
       "              4                               4                               \n",
       "                                                                              \n",
       "                                                                              \n",
       "₃(t)⋅sin(θ₂(t)))                                                              \n",
       "─────────────────                                                           Iy\n",
       "                                                                              \n",
       "                                                                              \n",
       "                                                                              \n",
       "                                                                              \n",
       "                                                                              \n",
       "\n",
       "                                       ⎤\n",
       "⋅l₂⋅cos(θ₂(t)) + d₃(t)⋅sin(θ₂(t)))     ⎥\n",
       "───────────────────────────────────  0 ⎥\n",
       "            2                          ⎥\n",
       "                                       ⎥\n",
       "              2                        ⎥\n",
       "            l₂ ⋅m₂     2               ⎥\n",
       "y₂ + Iyy₃ + ────── + l₂ ⋅m₃          0 ⎥\n",
       "              4                        ⎥\n",
       "                                       ⎥\n",
       "                                     m₃⎥\n",
       "            0                        ──⎥\n",
       "                                     4 ⎦"
      ]
     },
     "execution_count": 21,
     "metadata": {},
     "output_type": "execute_result"
    }
   ],
   "source": [
    "D = simplify(D1 + D2 + D3)\n",
    "D"
   ]
  },
  {
   "cell_type": "markdown",
   "metadata": {},
   "source": [
    "# Macierz Coriolisa"
   ]
  },
  {
   "cell_type": "code",
   "execution_count": 22,
   "metadata": {},
   "outputs": [
    {
     "data": {
      "image/png": "[encoded data removed]",
      "text/latex": [
       "$\\displaystyle \\frac{l_{2} m_{3} \\left(2 l_{2} \\sin{\\left(\\theta_{2}{\\left(t \\right)} \\right)} - \\operatorname{d_{3}}{\\left(t \\right)} \\cos{\\left(\\theta_{2}{\\left(t \\right)} \\right)}\\right) \\left(\\frac{d}{d t} \\theta_{2}{\\left(t \\right)}\\right)^{2}}{2} - \\frac{l_{2} m_{3} \\sin{\\left(\\theta_{2}{\\left(t \\right)} \\right)} \\frac{d}{d t} \\operatorname{d_{3}}{\\left(t \\right)} \\frac{d}{d t} \\theta_{2}{\\left(t \\right)}}{2} + \\frac{m_{3} \\left(2 l_{2} \\sin{\\left(2 \\theta_{2}{\\left(t \\right)} \\right)} - \\operatorname{d_{3}}{\\left(t \\right)} \\cos{\\left(2 \\theta_{2}{\\left(t \\right)} \\right)} + \\operatorname{d_{3}}{\\left(t \\right)}\\right) \\frac{d}{d t} \\operatorname{d_{3}}{\\left(t \\right)} \\frac{d}{d t} \\theta_{1}{\\left(t \\right)}}{4} + \\frac{\\left(4 Ixx_{2} \\sin{\\left(2 \\theta_{2}{\\left(t \\right)} \\right)} + 4 Ixx_{3} \\sin{\\left(2 \\theta_{2}{\\left(t \\right)} \\right)} - 4 Izz_{2} \\sin{\\left(2 \\theta_{2}{\\left(t \\right)} \\right)} - 4 Izz_{3} \\sin{\\left(2 \\theta_{2}{\\left(t \\right)} \\right)} - l_{2}^{2} m_{2} \\sin{\\left(2 \\theta_{2}{\\left(t \\right)} \\right)} - 4 l_{2}^{2} m_{3} \\sin{\\left(2 \\theta_{2}{\\left(t \\right)} \\right)} + 4 l_{2} m_{3} \\operatorname{d_{3}}{\\left(t \\right)} \\cos{\\left(2 \\theta_{2}{\\left(t \\right)} \\right)} + m_{3} \\operatorname{d_{3}}^{2}{\\left(t \\right)} \\sin{\\left(2 \\theta_{2}{\\left(t \\right)} \\right)}\\right) \\frac{d}{d t} \\theta_{1}{\\left(t \\right)} \\frac{d}{d t} \\theta_{2}{\\left(t \\right)}}{4}$"
      ],
      "text/plain": [
       "                                                      2                       \n",
       "                                           ⎛d        ⎞                     d  \n",
       "l₂⋅m₃⋅(2⋅l₂⋅sin(θ₂(t)) - d₃(t)⋅cos(θ₂(t)))⋅⎜──(θ₂(t))⎟    l₂⋅m₃⋅sin(θ₂(t))⋅──(\n",
       "                                           ⎝dt       ⎠                     dt \n",
       "─────────────────────────────────────────────────────── - ────────────────────\n",
       "                           2                                               2  \n",
       "\n",
       "                                                                              \n",
       "       d                                                               d      \n",
       "d₃(t))⋅──(θ₂(t))   m₃⋅(2⋅l₂⋅sin(2⋅θ₂(t)) - d₃(t)⋅cos(2⋅θ₂(t)) + d₃(t))⋅──(d₃(t\n",
       "       dt                                                              dt     \n",
       "──────────────── + ───────────────────────────────────────────────────────────\n",
       "                                                      4                       \n",
       "\n",
       "                                                                              \n",
       "   d           ⎛                                                              \n",
       "))⋅──(θ₁(t))   ⎝4⋅Ixx₂⋅sin(2⋅θ₂(t)) + 4⋅Ixx₃⋅sin(2⋅θ₂(t)) - 4⋅Izz₂⋅sin(2⋅θ₂(t)\n",
       "   dt                                                                         \n",
       "──────────── + ───────────────────────────────────────────────────────────────\n",
       "                                                                              \n",
       "\n",
       "                                                                              \n",
       "                            2                       2                         \n",
       ") - 4⋅Izz₃⋅sin(2⋅θ₂(t)) - l₂ ⋅m₂⋅sin(2⋅θ₂(t)) - 4⋅l₂ ⋅m₃⋅sin(2⋅θ₂(t)) + 4⋅l₂⋅m\n",
       "                                                                              \n",
       "──────────────────────────────────────────────────────────────────────────────\n",
       "                                        4                                     \n",
       "\n",
       "                                                                  \n",
       "                            2                ⎞ d         d        \n",
       "₃⋅d₃(t)⋅cos(2⋅θ₂(t)) + m₃⋅d₃ (t)⋅sin(2⋅θ₂(t))⎠⋅──(θ₁(t))⋅──(θ₂(t))\n",
       "                                               dt        dt       \n",
       "──────────────────────────────────────────────────────────────────\n",
       "                                                                  "
      ]
     },
     "execution_count": 22,
     "metadata": {},
     "output_type": "execute_result"
    }
   ],
   "source": [
    "#c111 = (D[0, 0].diff(t1) + D[0, 0].diff(t1) - D[0, 0].diff(t1))/2\n",
    "c121 = (D[0,0].diff(t2))/2\n",
    "c221 = (D[1,0].diff(t2) + D[1,0].diff(t2))/2\n",
    "c211 = (D[0,0].diff(t2))/2\n",
    "c131 = (D[0, 0].diff(d3))/2\n",
    "#c331 = (D[2,0].diff(d3) + D[2,0].diff(d3))/2\n",
    "c311 = (D[0, 0].diff(d3))/2\n",
    "c231 = (D[1,0].diff(d3))/2\n",
    "c321 = (D[1,0].diff(d3))/2\n",
    "c1 = simplify(trigsimp(c121 * diff(t1,t) * diff(t2,t) + c221 * diff(t2,t) * diff(t2,t) + c211 * diff(t1,t) * diff(t2,t) + c131 * diff(d3,t) * diff(t1,t) + c311 * diff(t1,t) * diff(d3,t) + c231 * diff(t2,t) * diff(d3,t) + c321 * diff(t2,t) * diff(d3,t)))\n",
    "c1"
   ]
  },
  {
   "cell_type": "code",
   "execution_count": 23,
   "metadata": {},
   "outputs": [
    {
     "data": {
      "image/png": "[encoded data removed]",
      "text/latex": [
       "$\\displaystyle \\frac{\\left(- 2 l_{2} m_{3} \\sin{\\left(\\theta_{2}{\\left(t \\right)} \\right)} \\frac{d}{d t} \\operatorname{d_{3}}{\\left(t \\right)} + \\frac{\\left(- 4 Ixx_{2} \\sin{\\left(2 \\theta_{2}{\\left(t \\right)} \\right)} - 4 Ixx_{3} \\sin{\\left(2 \\theta_{2}{\\left(t \\right)} \\right)} + 4 Izz_{2} \\sin{\\left(2 \\theta_{2}{\\left(t \\right)} \\right)} + 4 Izz_{3} \\sin{\\left(2 \\theta_{2}{\\left(t \\right)} \\right)} + l_{2}^{2} m_{2} \\sin{\\left(2 \\theta_{2}{\\left(t \\right)} \\right)} + 4 l_{2}^{2} m_{3} \\sin{\\left(2 \\theta_{2}{\\left(t \\right)} \\right)} - 4 l_{2} m_{3} \\operatorname{d_{3}}{\\left(t \\right)} \\cos{\\left(2 \\theta_{2}{\\left(t \\right)} \\right)} - m_{3} \\operatorname{d_{3}}^{2}{\\left(t \\right)} \\sin{\\left(2 \\theta_{2}{\\left(t \\right)} \\right)}\\right) \\frac{d}{d t} \\theta_{1}{\\left(t \\right)}}{2}\\right) \\frac{d}{d t} \\theta_{1}{\\left(t \\right)}}{4}$"
      ],
      "text/plain": [
       "⎛                                 ⎛                                           \n",
       "⎜                                 ⎝-4⋅Ixx₂⋅sin(2⋅θ₂(t)) - 4⋅Ixx₃⋅sin(2⋅θ₂(t)) \n",
       "⎜                     d                                                       \n",
       "⎜- 2⋅l₂⋅m₃⋅sin(θ₂(t))⋅──(d₃(t)) + ────────────────────────────────────────────\n",
       "⎝                     dt                                                      \n",
       "──────────────────────────────────────────────────────────────────────────────\n",
       "                                                                              \n",
       "\n",
       "                                                2                       2     \n",
       "+ 4⋅Izz₂⋅sin(2⋅θ₂(t)) + 4⋅Izz₃⋅sin(2⋅θ₂(t)) + l₂ ⋅m₂⋅sin(2⋅θ₂(t)) + 4⋅l₂ ⋅m₃⋅s\n",
       "                                                                              \n",
       "──────────────────────────────────────────────────────────────────────────────\n",
       "                                                      2                       \n",
       "──────────────────────────────────────────────────────────────────────────────\n",
       "                                           4                                  \n",
       "\n",
       "                                                2                ⎞ d        ⎞ \n",
       "in(2⋅θ₂(t)) - 4⋅l₂⋅m₃⋅d₃(t)⋅cos(2⋅θ₂(t)) - m₃⋅d₃ (t)⋅sin(2⋅θ₂(t))⎠⋅──(θ₁(t))⎟ \n",
       "                                                                   dt       ⎟ \n",
       "────────────────────────────────────────────────────────────────────────────⎟⋅\n",
       "                                                                            ⎠ \n",
       "──────────────────────────────────────────────────────────────────────────────\n",
       "                                                                              \n",
       "\n",
       "         \n",
       "         \n",
       "d        \n",
       "──(θ₁(t))\n",
       "dt       \n",
       "─────────\n",
       "         "
      ]
     },
     "execution_count": 23,
     "metadata": {},
     "output_type": "execute_result"
    }
   ],
   "source": [
    "c112 = (-D[0, 0].diff(t2))/2\n",
    "c122 = (D[0, 1].diff(t2) - D[0, 1].diff(t2))/2\n",
    "#c222 = (D[1, 1].diff(t2) + D[1, 1].diff(t2) - D[1, 1].diff(t2))/2\n",
    "c212 = (D[0, 1].diff(t2) - D[1, 0].diff(t2))/2\n",
    "c132 = (D[0, 1].diff(d3))/2\n",
    "#c332 = (D[2, 1].diff(d3) + D[2, 1].diff(d3) - D[2, 2].diff(t2))/2\n",
    "c312 = (D[0, 1].diff(d3))/2\n",
    "#c232 = (D[2, 1].diff(t2) + D[1, 1].diff(d3) - D[1, 2].diff(t2))/2\n",
    "#c322 = (D[1, 1].diff(d3) + D[2, 1].diff(t2) - D[2, 1].diff(t2))/2\n",
    "c2 = simplify(c112 * diff(t1,t) * diff(t1,t) + c122 * diff(t2,t) * diff(t1,t) + c212 * diff(t1,t) * diff(t2,t) + c132 * diff(t1,t)  * diff(d3,t) + c312 * diff(t1,t)  * diff(d3,t))\n",
    "c2"
   ]
  },
  {
   "cell_type": "code",
   "execution_count": 24,
   "metadata": {},
   "outputs": [
    {
     "data": {
      "image/png": "[encoded data removed]",
      "text/latex": [
       "$\\displaystyle \\frac{m_{3} \\left(2 l_{2} \\frac{d}{d t} \\theta_{2}{\\left(t \\right)} - \\left(2 l_{2} \\cos{\\left(\\theta_{2}{\\left(t \\right)} \\right)} + \\operatorname{d_{3}}{\\left(t \\right)} \\sin{\\left(\\theta_{2}{\\left(t \\right)} \\right)}\\right) \\frac{d}{d t} \\theta_{1}{\\left(t \\right)}\\right) \\sin{\\left(\\theta_{2}{\\left(t \\right)} \\right)} \\frac{d}{d t} \\theta_{1}{\\left(t \\right)}}{4}$"
      ],
      "text/plain": [
       "   ⎛     d                                                d        ⎞          \n",
       "m₃⋅⎜2⋅l₂⋅──(θ₂(t)) - (2⋅l₂⋅cos(θ₂(t)) + d₃(t)⋅sin(θ₂(t)))⋅──(θ₁(t))⎟⋅sin(θ₂(t)\n",
       "   ⎝     dt                                               dt       ⎠          \n",
       "──────────────────────────────────────────────────────────────────────────────\n",
       "                                            4                                 \n",
       "\n",
       "  d        \n",
       ")⋅──(θ₁(t))\n",
       "  dt       \n",
       "───────────\n",
       "           "
      ]
     },
     "execution_count": 24,
     "metadata": {},
     "output_type": "execute_result"
    }
   ],
   "source": [
    "c113 = (- D[0, 0].diff(d3))/2\n",
    "c123 = (- D[0, 1].diff(d3))/2\n",
    "#c223 = (D[1, 2].diff(t2) + D[1, 2].diff(t2) - D[1, 1].diff(d3))/2\n",
    "c213 = (- D[1, 0].diff(d3))/2\n",
    "#c133 = (D[0, 2].diff(d3) - D[0, 2].diff(d3))/2\n",
    "#c333\n",
    "#c313 = (D[0, 2].diff(d3) - D[2, 0].diff(d3))/2\n",
    "#c233 = (D[2, 2].diff(t2) + D[1, 2].diff(d3) - D[1, 2].diff(d3))/2\n",
    "#c323 = (D[1, 2].diff(d3) + D[2, 2].diff(t2) - D[2, 1].diff(d3))/2\n",
    "c3 = simplify(c113 * diff(t1,t) * diff(t1,t) + c123 * diff(t1,t) * diff(t2,t) + c213 * diff(t2,t) * diff(t1,t))\n",
    "c3"
   ]
  },
  {
   "cell_type": "code",
   "execution_count": 25,
   "metadata": {},
   "outputs": [
    {
     "data": {
      "text/latex": [
       "$\\displaystyle \\left[\\begin{matrix}\\frac{l_{2} m_{3} \\left(2 l_{2} \\sin{\\left(\\theta_{2}{\\left(t \\right)} \\right)} - \\operatorname{d_{3}}{\\left(t \\right)} \\cos{\\left(\\theta_{2}{\\left(t \\right)} \\right)}\\right) \\left(\\frac{d}{d t} \\theta_{2}{\\left(t \\right)}\\right)^{2}}{2} - \\frac{l_{2} m_{3} \\sin{\\left(\\theta_{2}{\\left(t \\right)} \\right)} \\frac{d}{d t} \\operatorname{d_{3}}{\\left(t \\right)} \\frac{d}{d t} \\theta_{2}{\\left(t \\right)}}{2} + \\frac{m_{3} \\left(2 l_{2} \\sin{\\left(2 \\theta_{2}{\\left(t \\right)} \\right)} - \\operatorname{d_{3}}{\\left(t \\right)} \\cos{\\left(2 \\theta_{2}{\\left(t \\right)} \\right)} + \\operatorname{d_{3}}{\\left(t \\right)}\\right) \\frac{d}{d t} \\operatorname{d_{3}}{\\left(t \\right)} \\frac{d}{d t} \\theta_{1}{\\left(t \\right)}}{4} + \\frac{\\left(4 Ixx_{2} \\sin{\\left(2 \\theta_{2}{\\left(t \\right)} \\right)} + 4 Ixx_{3} \\sin{\\left(2 \\theta_{2}{\\left(t \\right)} \\right)} - 4 Izz_{2} \\sin{\\left(2 \\theta_{2}{\\left(t \\right)} \\right)} - 4 Izz_{3} \\sin{\\left(2 \\theta_{2}{\\left(t \\right)} \\right)} - l_{2}^{2} m_{2} \\sin{\\left(2 \\theta_{2}{\\left(t \\right)} \\right)} - 4 l_{2}^{2} m_{3} \\sin{\\left(2 \\theta_{2}{\\left(t \\right)} \\right)} + 4 l_{2} m_{3} \\operatorname{d_{3}}{\\left(t \\right)} \\cos{\\left(2 \\theta_{2}{\\left(t \\right)} \\right)} + m_{3} \\operatorname{d_{3}}^{2}{\\left(t \\right)} \\sin{\\left(2 \\theta_{2}{\\left(t \\right)} \\right)}\\right) \\frac{d}{d t} \\theta_{1}{\\left(t \\right)} \\frac{d}{d t} \\theta_{2}{\\left(t \\right)}}{4}\\\\\\frac{\\left(- 2 l_{2} m_{3} \\sin{\\left(\\theta_{2}{\\left(t \\right)} \\right)} \\frac{d}{d t} \\operatorname{d_{3}}{\\left(t \\right)} + \\frac{\\left(- 4 Ixx_{2} \\sin{\\left(2 \\theta_{2}{\\left(t \\right)} \\right)} - 4 Ixx_{3} \\sin{\\left(2 \\theta_{2}{\\left(t \\right)} \\right)} + 4 Izz_{2} \\sin{\\left(2 \\theta_{2}{\\left(t \\right)} \\right)} + 4 Izz_{3} \\sin{\\left(2 \\theta_{2}{\\left(t \\right)} \\right)} + l_{2}^{2} m_{2} \\sin{\\left(2 \\theta_{2}{\\left(t \\right)} \\right)} + 4 l_{2}^{2} m_{3} \\sin{\\left(2 \\theta_{2}{\\left(t \\right)} \\right)} - 4 l_{2} m_{3} \\operatorname{d_{3}}{\\left(t \\right)} \\cos{\\left(2 \\theta_{2}{\\left(t \\right)} \\right)} - m_{3} \\operatorname{d_{3}}^{2}{\\left(t \\right)} \\sin{\\left(2 \\theta_{2}{\\left(t \\right)} \\right)}\\right) \\frac{d}{d t} \\theta_{1}{\\left(t \\right)}}{2}\\right) \\frac{d}{d t} \\theta_{1}{\\left(t \\right)}}{4}\\\\\\frac{m_{3} \\left(2 l_{2} \\frac{d}{d t} \\theta_{2}{\\left(t \\right)} - \\left(2 l_{2} \\cos{\\left(\\theta_{2}{\\left(t \\right)} \\right)} + \\operatorname{d_{3}}{\\left(t \\right)} \\sin{\\left(\\theta_{2}{\\left(t \\right)} \\right)}\\right) \\frac{d}{d t} \\theta_{1}{\\left(t \\right)}\\right) \\sin{\\left(\\theta_{2}{\\left(t \\right)} \\right)} \\frac{d}{d t} \\theta_{1}{\\left(t \\right)}}{4}\\end{matrix}\\right]$"
      ],
      "text/plain": [
       "⎡                                                      2                      \n",
       "⎢                                           ⎛d        ⎞                     d \n",
       "⎢l₂⋅m₃⋅(2⋅l₂⋅sin(θ₂(t)) - d₃(t)⋅cos(θ₂(t)))⋅⎜──(θ₂(t))⎟    l₂⋅m₃⋅sin(θ₂(t))⋅──\n",
       "⎢                                           ⎝dt       ⎠                     dt\n",
       "⎢─────────────────────────────────────────────────────── - ───────────────────\n",
       "⎢                           2                                               2 \n",
       "⎢                                                                             \n",
       "⎢                                                                   ⎛         \n",
       "⎢                                                                   ⎜         \n",
       "⎢                                                                   ⎜         \n",
       "⎢                                                                   ⎜- 2⋅l₂⋅m₃\n",
       "⎢                                                                   ⎝         \n",
       "⎢                                                                   ──────────\n",
       "⎢                                                                             \n",
       "⎢                                                                             \n",
       "⎢                                                                             \n",
       "⎢                                                                             \n",
       "⎢                                                                             \n",
       "⎢                                                                             \n",
       "⎣                                                                             \n",
       "\n",
       "                                                                              \n",
       "        d                                                               d     \n",
       "(d₃(t))⋅──(θ₂(t))   m₃⋅(2⋅l₂⋅sin(2⋅θ₂(t)) - d₃(t)⋅cos(2⋅θ₂(t)) + d₃(t))⋅──(d₃(\n",
       "        dt                                                              dt    \n",
       "───────────────── + ──────────────────────────────────────────────────────────\n",
       "                                                       4                      \n",
       "                                                                              \n",
       "                        ⎛                                                     \n",
       "                        ⎝-4⋅Ixx₂⋅sin(2⋅θ₂(t)) - 4⋅Ixx₃⋅sin(2⋅θ₂(t)) + 4⋅Izz₂⋅s\n",
       "            d                                                                 \n",
       "⋅sin(θ₂(t))⋅──(d₃(t)) + ──────────────────────────────────────────────────────\n",
       "            dt                                                                \n",
       "──────────────────────────────────────────────────────────────────────────────\n",
       "                                                                              \n",
       "                                                                              \n",
       "                                                                      ⎛     d \n",
       "                                                                   m₃⋅⎜2⋅l₂⋅──\n",
       "                                                                      ⎝     dt\n",
       "                                                                   ───────────\n",
       "                                                                              \n",
       "\n",
       "                                                                              \n",
       "    d           ⎛                                                             \n",
       "t))⋅──(θ₁(t))   ⎝4⋅Ixx₂⋅sin(2⋅θ₂(t)) + 4⋅Ixx₃⋅sin(2⋅θ₂(t)) - 4⋅Izz₂⋅sin(2⋅θ₂(t\n",
       "    dt                                                                        \n",
       "───────────── + ──────────────────────────────────────────────────────────────\n",
       "                                                                              \n",
       "                                                                              \n",
       "                                      2                       2               \n",
       "in(2⋅θ₂(t)) + 4⋅Izz₃⋅sin(2⋅θ₂(t)) + l₂ ⋅m₂⋅sin(2⋅θ₂(t)) + 4⋅l₂ ⋅m₃⋅sin(2⋅θ₂(t)\n",
       "                                                                              \n",
       "──────────────────────────────────────────────────────────────────────────────\n",
       "                                            2                                 \n",
       "──────────────────────────────────────────────────────────────────────────────\n",
       "                                 4                                            \n",
       "                                                                              \n",
       "                                               d        ⎞            d        \n",
       "(θ₂(t)) - (2⋅l₂⋅cos(θ₂(t)) + d₃(t)⋅sin(θ₂(t)))⋅──(θ₁(t))⎟⋅sin(θ₂(t))⋅──(θ₁(t))\n",
       "                                               dt       ⎠            dt       \n",
       "──────────────────────────────────────────────────────────────────────────────\n",
       "                                 4                                            \n",
       "\n",
       "                                                                              \n",
       "                             2                       2                        \n",
       ")) - 4⋅Izz₃⋅sin(2⋅θ₂(t)) - l₂ ⋅m₂⋅sin(2⋅θ₂(t)) - 4⋅l₂ ⋅m₃⋅sin(2⋅θ₂(t)) + 4⋅l₂⋅\n",
       "                                                                              \n",
       "──────────────────────────────────────────────────────────────────────────────\n",
       "                                         4                                    \n",
       "                                                                              \n",
       "                                      2                ⎞ d        ⎞           \n",
       ") - 4⋅l₂⋅m₃⋅d₃(t)⋅cos(2⋅θ₂(t)) - m₃⋅d₃ (t)⋅sin(2⋅θ₂(t))⎠⋅──(θ₁(t))⎟           \n",
       "                                                         dt       ⎟ d         \n",
       "──────────────────────────────────────────────────────────────────⎟⋅──(θ₁(t)) \n",
       "                                                                  ⎠ dt        \n",
       "───────────────────────────────────────────────────────────────────────────── \n",
       "                                                                              \n",
       "                                                                              \n",
       "                                                                              \n",
       "                                                                              \n",
       "                                                                              \n",
       "                                                                              \n",
       "                                                                              \n",
       "\n",
       "                                                                   ⎤\n",
       "                             2                ⎞ d         d        ⎥\n",
       "m₃⋅d₃(t)⋅cos(2⋅θ₂(t)) + m₃⋅d₃ (t)⋅sin(2⋅θ₂(t))⎠⋅──(θ₁(t))⋅──(θ₂(t))⎥\n",
       "                                                dt        dt       ⎥\n",
       "───────────────────────────────────────────────────────────────────⎥\n",
       "                                                                   ⎥\n",
       "                                                                   ⎥\n",
       "                                                                   ⎥\n",
       "                                                                   ⎥\n",
       "                                                                   ⎥\n",
       "                                                                   ⎥\n",
       "                                                                   ⎥\n",
       "                                                                   ⎥\n",
       "                                                                   ⎥\n",
       "                                                                   ⎥\n",
       "                                                                   ⎥\n",
       "                                                                   ⎥\n",
       "                                                                   ⎥\n",
       "                                                                   ⎥\n",
       "                                                                   ⎦"
      ]
     },
     "execution_count": 25,
     "metadata": {},
     "output_type": "execute_result"
    }
   ],
   "source": [
    "C = trigsimp(Matrix([[c1], [c2], [c3]]))\n",
    "C"
   ]
  },
  {
   "cell_type": "code",
   "execution_count": 26,
   "metadata": {},
   "outputs": [
    {
     "data": {
      "image/png": "[encoded data removed]",
      "text/latex": [
       "$\\displaystyle \\frac{g l_{1} m_{1}}{2} + g m_{2} \\left(l_{1} + \\frac{l_{2} \\sin{\\left(\\theta_{2}{\\left(t \\right)} \\right)}}{2}\\right) + g m_{3} \\left(l_{1} + l_{2} \\sin{\\left(\\theta_{2}{\\left(t \\right)} \\right)} - \\frac{\\operatorname{d_{3}}{\\left(t \\right)} \\cos{\\left(\\theta_{2}{\\left(t \\right)} \\right)}}{2}\\right)$"
      ],
      "text/plain": [
       "g⋅l₁⋅m₁        ⎛     l₂⋅sin(θ₂(t))⎞        ⎛                     d₃(t)⋅cos(θ₂(\n",
       "─────── + g⋅m₂⋅⎜l₁ + ─────────────⎟ + g⋅m₃⋅⎜l₁ + l₂⋅sin(θ₂(t)) - ─────────────\n",
       "   2           ⎝           2      ⎠        ⎝                            2     \n",
       "\n",
       "t))⎞\n",
       "───⎟\n",
       "   ⎠"
      ]
     },
     "execution_count": 26,
     "metadata": {},
     "output_type": "execute_result"
    }
   ],
   "source": [
    "g = symbols('g')\n",
    "Ep = m1*g*oc1[2] + m2*g*oc2[2] + m3*g*oc3[2]\n",
    "Ep"
   ]
  },
  {
   "cell_type": "code",
   "execution_count": 27,
   "metadata": {},
   "outputs": [
    {
     "data": {
      "text/latex": [
       "$\\displaystyle \\left[\\begin{matrix}0\\\\\\frac{g l_{2} m_{2} \\cos{\\left(\\theta_{2}{\\left(t \\right)} \\right)}}{2} + g m_{3} \\left(l_{2} \\cos{\\left(\\theta_{2}{\\left(t \\right)} \\right)} + \\frac{\\operatorname{d_{3}}{\\left(t \\right)} \\sin{\\left(\\theta_{2}{\\left(t \\right)} \\right)}}{2}\\right)\\\\- \\frac{g m_{3} \\cos{\\left(\\theta_{2}{\\left(t \\right)} \\right)}}{2}\\end{matrix}\\right]$"
      ],
      "text/plain": [
       "⎡                             0                              ⎤\n",
       "⎢                                                            ⎥\n",
       "⎢g⋅l₂⋅m₂⋅cos(θ₂(t))        ⎛                d₃(t)⋅sin(θ₂(t))⎞⎥\n",
       "⎢────────────────── + g⋅m₃⋅⎜l₂⋅cos(θ₂(t)) + ────────────────⎟⎥\n",
       "⎢        2                 ⎝                       2        ⎠⎥\n",
       "⎢                                                            ⎥\n",
       "⎢                     -g⋅m₃⋅cos(θ₂(t))                       ⎥\n",
       "⎢                     ─────────────────                      ⎥\n",
       "⎣                             2                              ⎦"
      ]
     },
     "execution_count": 27,
     "metadata": {},
     "output_type": "execute_result"
    }
   ],
   "source": [
    "G = Matrix([[Ep.diff(t1)], [Ep.diff(t2)], [Ep.diff(d3)]])\n",
    "G"
   ]
  },
  {
   "cell_type": "code",
   "execution_count": null,
   "metadata": {},
   "outputs": [],
   "source": []
  },
  {
   "cell_type": "code",
   "execution_count": null,
   "metadata": {},
   "outputs": [],
   "source": []
  }
 ],
 "metadata": {
  "kernelspec": {
   "display_name": "Python 3",
   "language": "python",
   "name": "python3"
  },
  "language_info": {
   "codemirror_mode": {
    "name": "ipython",
    "version": 3
   },
   "file_extension": ".py",
   "mimetype": "text/x-python",
   "name": "python",
   "nbconvert_exporter": "python",
   "pygments_lexer": "ipython3",
   "version": "3.6.13"
  },
  "metadata": {
   "interpreter": {
    "hash": "767d51c1340bd893661ea55ea3124f6de3c7a262a8b4abca0554b478b1e2ff90"
   }
  }
 },
 "nbformat": 4,
 "nbformat_minor": 4
}
